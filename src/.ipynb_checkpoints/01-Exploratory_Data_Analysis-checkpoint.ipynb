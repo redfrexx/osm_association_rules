{
 "cells": [
  {
   "cell_type": "markdown",
   "metadata": {},
   "source": [
    "# Exploratory Analysis"
   ]
  },
  {
   "cell_type": "markdown",
   "metadata": {},
   "source": [
    "This notebook contains an exploratory analysis of the parks mapped within the eight cities in OSM. "
   ]
  },
  {
   "cell_type": "code",
   "execution_count": 1,
   "metadata": {
    "pycharm": {
     "is_executing": false
    },
    "scrolled": true
   },
   "outputs": [],
   "source": [
    "import os\n",
    "import numpy as np\n",
    "import pandas as pd\n",
    "from scipy.stats import percentileofscore\n",
    "import ohsome\n",
    "import nb_utils as nbu"
   ]
  },
  {
   "cell_type": "markdown",
   "metadata": {},
   "source": [
    "Pyproj throws a lot of deprecation warnings within geopandas at the moment, since the functions have not been updated yet. Therefore, warning are suppressed."
   ]
  },
  {
   "cell_type": "code",
   "execution_count": 2,
   "metadata": {
    "pycharm": {
     "is_executing": false
    }
   },
   "outputs": [],
   "source": [
    "import warnings\n",
    "warnings.filterwarnings('ignore')"
   ]
  },
  {
   "cell_type": "code",
   "execution_count": 3,
   "metadata": {},
   "outputs": [],
   "source": [
    "%load_ext autoreload\n",
    "%autoreload 2"
   ]
  },
  {
   "cell_type": "markdown",
   "metadata": {},
   "source": [
    "## Input paths and configuration parameters"
   ]
  },
  {
   "cell_type": "code",
   "execution_count": 4,
   "metadata": {
    "pycharm": {
     "is_executing": false
    }
   },
   "outputs": [],
   "source": [
    "data_dir = \"../data\"\n",
    "figures_dir = \"../figures\"\n",
    "tables_dir = \"../tables\"\n",
    "interim_dir = \"../interim_results\"\n",
    "config_file = \"../config/parks.yaml\""
   ]
  },
  {
   "cell_type": "markdown",
   "metadata": {},
   "source": [
    "Cities under investigation:"
   ]
  },
  {
   "cell_type": "code",
   "execution_count": 5,
   "metadata": {},
   "outputs": [],
   "source": [
    "cities = [\"dresden\", \"berlin\", \"london\", \"telaviv\", \"tokyo\", \"osaka\", \"newyork\", \"vancouver\"]"
   ]
  },
  {
   "cell_type": "markdown",
   "metadata": {},
   "source": [
    "All results from the ohsome queries are stored in the folder _./interim_results_ to reduce the run time of this notebook and to assure reproducibility of the results in case of changes to the ohsome API. If you would like to send the ohsome API queries within this notebook, set ```run_ohsome_queries=True```"
   ]
  },
  {
   "cell_type": "code",
   "execution_count": 6,
   "metadata": {},
   "outputs": [],
   "source": [
    "run_ohsome_queries = False"
   ]
  },
  {
   "cell_type": "markdown",
   "metadata": {},
   "source": [
    "Create output directories"
   ]
  },
  {
   "cell_type": "code",
   "execution_count": 7,
   "metadata": {
    "pycharm": {
     "is_executing": false
    }
   },
   "outputs": [],
   "source": [
    "if not os.path.exists(figures_dir):\n",
    "    os.mkdir(figures_dir)\n",
    "if not os.path.exists(tables_dir):\n",
    "    os.mkdir(tables_dir)"
   ]
  },
  {
   "cell_type": "markdown",
   "metadata": {},
   "source": [
    "Load config parameters from config file"
   ]
  },
  {
   "cell_type": "code",
   "execution_count": 8,
   "metadata": {},
   "outputs": [],
   "source": [
    "config_cities = nbu.load_config(config_file, cities)"
   ]
  },
  {
   "cell_type": "markdown",
   "metadata": {},
   "source": [
    "## Import data\n",
    "\n",
    "Import the preprocessed data extracted using the ohsome API."
   ]
  },
  {
   "cell_type": "code",
   "execution_count": 9,
   "metadata": {},
   "outputs": [
    {
     "name": "stdout",
     "output_type": "stream",
     "text": [
      "Loading dresden...\n",
      "Loading berlin...\n",
      "Loading london...\n",
      "Loading telaviv...\n",
      "Loading tokyo...\n",
      "Loading osaka...\n",
      "Loading newyork...\n",
      "Loading vancouver...\n"
     ]
    }
   ],
   "source": [
    "all_features = nbu.load_data(cities, data_dir)"
   ]
  },
  {
   "cell_type": "markdown",
   "metadata": {},
   "source": [
    "Creat bounding boxes for all cities."
   ]
  },
  {
   "cell_type": "code",
   "execution_count": 10,
   "metadata": {},
   "outputs": [],
   "source": [
    "bbox_df = nbu.create_city_bboxes(config_cities)"
   ]
  },
  {
   "cell_type": "markdown",
   "metadata": {},
   "source": [
    "## 1. Overview of cities (Table 1)\n",
    "This table gives an overview of the number of parks mapped inside each city which were selected for this analysis. This analysis does not consider all parks within each city, but rather to take a large enough sample of parks from each city to facilitate regional comparisons. Therefore, this analysis does not provide a comprehensive analysis of all parks wihtin each city."
   ]
  },
  {
   "cell_type": "code",
   "execution_count": 11,
   "metadata": {},
   "outputs": [
    {
     "data": {
      "text/html": [
       "<div>\n",
       "<style scoped>\n",
       "    .dataframe tbody tr th:only-of-type {\n",
       "        vertical-align: middle;\n",
       "    }\n",
       "\n",
       "    .dataframe tbody tr th {\n",
       "        vertical-align: top;\n",
       "    }\n",
       "\n",
       "    .dataframe thead th {\n",
       "        text-align: right;\n",
       "    }\n",
       "</style>\n",
       "<table border=\"1\" class=\"dataframe\">\n",
       "  <thead>\n",
       "    <tr style=\"text-align: right;\">\n",
       "      <th></th>\n",
       "      <th>City</th>\n",
       "      <th>Country</th>\n",
       "      <th>Number of parks in OSM</th>\n",
       "    </tr>\n",
       "  </thead>\n",
       "  <tbody>\n",
       "    <tr>\n",
       "      <th>0</th>\n",
       "      <td>Dresden</td>\n",
       "      <td>Germany</td>\n",
       "      <td>467</td>\n",
       "    </tr>\n",
       "    <tr>\n",
       "      <th>1</th>\n",
       "      <td>Berlin</td>\n",
       "      <td>Germany</td>\n",
       "      <td>1390</td>\n",
       "    </tr>\n",
       "    <tr>\n",
       "      <th>2</th>\n",
       "      <td>London</td>\n",
       "      <td>Great Britain</td>\n",
       "      <td>1578</td>\n",
       "    </tr>\n",
       "    <tr>\n",
       "      <th>3</th>\n",
       "      <td>Tel Aviv</td>\n",
       "      <td>Israel</td>\n",
       "      <td>1168</td>\n",
       "    </tr>\n",
       "    <tr>\n",
       "      <th>4</th>\n",
       "      <td>Tokyo</td>\n",
       "      <td>Japan</td>\n",
       "      <td>2670</td>\n",
       "    </tr>\n",
       "    <tr>\n",
       "      <th>5</th>\n",
       "      <td>Osaka</td>\n",
       "      <td>Japan</td>\n",
       "      <td>1022</td>\n",
       "    </tr>\n",
       "    <tr>\n",
       "      <th>6</th>\n",
       "      <td>New York</td>\n",
       "      <td>USA</td>\n",
       "      <td>893</td>\n",
       "    </tr>\n",
       "    <tr>\n",
       "      <th>7</th>\n",
       "      <td>Vancouver</td>\n",
       "      <td>Canada</td>\n",
       "      <td>552</td>\n",
       "    </tr>\n",
       "  </tbody>\n",
       "</table>\n",
       "</div>"
      ],
      "text/plain": [
       "        City        Country  Number of parks in OSM\n",
       "0    Dresden        Germany                     467\n",
       "1     Berlin        Germany                    1390\n",
       "2     London  Great Britain                    1578\n",
       "3   Tel Aviv         Israel                    1168\n",
       "4      Tokyo          Japan                    2670\n",
       "5      Osaka          Japan                    1022\n",
       "6   New York            USA                     893\n",
       "7  Vancouver         Canada                     552"
      ]
     },
     "execution_count": 11,
     "metadata": {},
     "output_type": "execute_result"
    }
   ],
   "source": [
    "city_labels = {city: config_cities[city][\"name\"] for city in cities}\n",
    "tab1 = nbu.tab_1(all_features, city_labels, config_cities, tables_dir)\n",
    "tab1"
   ]
  },
  {
   "cell_type": "markdown",
   "metadata": {},
   "source": [
    "## 2. Number of parks over time (Figure 2)"
   ]
  },
  {
   "cell_type": "markdown",
   "metadata": {},
   "source": [
    "In this section, the development of the number of parks in OSM mapped in each city from November 2007 until December 2019 is analysed. The bounding boxes of each city is calculated based on the centroid and bounding box width given in the config file. "
   ]
  },
  {
   "cell_type": "code",
   "execution_count": 12,
   "metadata": {},
   "outputs": [],
   "source": [
    "timeperiod = \"2007-11-01/2019-12-10/P1M\""
   ]
  },
  {
   "cell_type": "code",
   "execution_count": 13,
   "metadata": {},
   "outputs": [],
   "source": [
    "if not run_ohsome_queries:\n",
    "    parks_over_time = pd.read_json(os.path.join(interim_dir, \"parks_over_time.json\"))\n",
    "else:\n",
    "    parks_over_time = nbu.ohsome_parks_over_time(config_cities, keys=[\"leisure\"], \n",
    "                                             values=[\"park\"], timeperiod=timeperiod, \n",
    "                                             types=[\"WAY\", \"RELATION\"])\n",
    "    #parks_over_time.to_json(os.path.join(interim_dir, \"parks_over_time.json\"))"
   ]
  },
  {
   "cell_type": "code",
   "execution_count": 14,
   "metadata": {
    "code_folding": []
   },
   "outputs": [
    {
     "data": {
      "image/png": "[encoded data removed]",
      "text/plain": [
       "<Figure size 720x288 with 1 Axes>"
      ]
     },
     "metadata": {
      "needs_background": "light"
     },
     "output_type": "display_data"
    }
   ],
   "source": [
    "selected_cities = parks_over_time.loc[:,[\"Berlin\", \"London\", \"Tokyo\", \"Vancouver\"]]\n",
    "nbu.fig_2(selected_cities, figures_dir)"
   ]
  },
  {
   "cell_type": "markdown",
   "metadata": {},
   "source": [
    "### Why is there such a strong increase of parks mapped in Tokyo?"
   ]
  },
  {
   "cell_type": "markdown",
   "metadata": {},
   "source": [
    "If the increase of parks is due to higher mapping activity, then the number of active users should have increased in the same time period. Query the Number of __all active users__ (without relations to save computation time)\n",
    "and __users mapping parks__ in Tokyo."
   ]
  },
  {
   "cell_type": "code",
   "execution_count": 15,
   "metadata": {},
   "outputs": [],
   "source": [
    "if not run_ohsome_queries:\n",
    "    users_tokyo = pd.read_json(os.path.join(interim_dir, \"users_tokyo.json\"))\n",
    "else:\n",
    "    users_tokyo = nbu.ohsome_users_tokyo(bbox_df.loc[[\"tokyo\"], :], timeperiod=timeperiod)\n",
    "    users_tokyo.to_json(os.path.join(interim_dir, \"users_tokyo.json\"))"
   ]
  },
  {
   "cell_type": "markdown",
   "metadata": {},
   "source": [
    "__Active users and number of parks in Tokyo:__\n",
    "There is an increase in active users mapping parks in Tokyo at the beginning of 2018 and a general increase of mappers since 2016. The increase since 2016 might be due to Pokemon Go Players as described by [Levente\n",
    " et al., 2019](https://2019.stateofthemap.org/sessions/VPXQAV/)."
   ]
  },
  {
   "cell_type": "code",
   "execution_count": 16,
   "metadata": {},
   "outputs": [
    {
     "data": {
      "image/png": "[encoded data removed]",
      "text/plain": [
       "<Figure size 720x288 with 2 Axes>"
      ]
     },
     "metadata": {
      "needs_background": "light"
     },
     "output_type": "display_data"
    }
   ],
   "source": [
    "nbu.fig_users_tokyo(parks_over_time[\"Tokyo\"], users_tokyo)"
   ]
  },
  {
   "cell_type": "markdown",
   "metadata": {},
   "source": [
    "__Data imports in Toyko__: There is no evidence for large data imports based on the _source=*_ tags attached to the _leisure=park_ objects. "
   ]
  },
  {
   "cell_type": "code",
   "execution_count": 17,
   "metadata": {
    "scrolled": true
   },
   "outputs": [],
   "source": [
    "if not run_ohsome_queries:\n",
    "    source_tags = pd.read_json(os.path.join(interim_dir, \"source_tags.json\"))\n",
    "else:\n",
    "    source_tags = nbu.ohsome_source_tag(bbox_df.loc[[\"tokyo\"], :], start_date=\"2017-10-01\", end_date=\"2019-10-01\")\n",
    "    source_tags.to_json(os.path.join(interim_dir, \"source_tags.json\"))"
   ]
  },
  {
   "cell_type": "code",
   "execution_count": 18,
   "metadata": {},
   "outputs": [
    {
     "data": {
      "text/html": [
       "<div>\n",
       "<style scoped>\n",
       "    .dataframe tbody tr th:only-of-type {\n",
       "        vertical-align: middle;\n",
       "    }\n",
       "\n",
       "    .dataframe tbody tr th {\n",
       "        vertical-align: top;\n",
       "    }\n",
       "\n",
       "    .dataframe thead th {\n",
       "        text-align: right;\n",
       "    }\n",
       "</style>\n",
       "<table border=\"1\" class=\"dataframe\">\n",
       "  <thead>\n",
       "    <tr style=\"text-align: right;\">\n",
       "      <th>timestamp</th>\n",
       "      <th>2017-10-01 00:00:00</th>\n",
       "      <th>2019-10-01 00:00:00</th>\n",
       "      <th>difference</th>\n",
       "    </tr>\n",
       "    <tr>\n",
       "      <th>tag</th>\n",
       "      <th></th>\n",
       "      <th></th>\n",
       "      <th></th>\n",
       "    </tr>\n",
       "  </thead>\n",
       "  <tbody>\n",
       "    <tr>\n",
       "      <th>remainder</th>\n",
       "      <td>795.0</td>\n",
       "      <td>1968.0</td>\n",
       "      <td>1173.0</td>\n",
       "    </tr>\n",
       "    <tr>\n",
       "      <th>source=GSImaps/ort</th>\n",
       "      <td>1.0</td>\n",
       "      <td>17.0</td>\n",
       "      <td>16.0</td>\n",
       "    </tr>\n",
       "    <tr>\n",
       "      <th>source=bing</th>\n",
       "      <td>56.0</td>\n",
       "      <td>64.0</td>\n",
       "      <td>8.0</td>\n",
       "    </tr>\n",
       "    <tr>\n",
       "      <th>source=survey</th>\n",
       "      <td>15.0</td>\n",
       "      <td>21.0</td>\n",
       "      <td>6.0</td>\n",
       "    </tr>\n",
       "    <tr>\n",
       "      <th>source=Bing,2017-11</th>\n",
       "      <td>0.0</td>\n",
       "      <td>5.0</td>\n",
       "      <td>5.0</td>\n",
       "    </tr>\n",
       "    <tr>\n",
       "      <th>source=Bing;survey</th>\n",
       "      <td>11.0</td>\n",
       "      <td>16.0</td>\n",
       "      <td>5.0</td>\n",
       "    </tr>\n",
       "    <tr>\n",
       "      <th>source=GSI/KIBAN 2500;NARO</th>\n",
       "      <td>0.0</td>\n",
       "      <td>4.0</td>\n",
       "      <td>4.0</td>\n",
       "    </tr>\n",
       "    <tr>\n",
       "      <th>source=local_knowledge</th>\n",
       "      <td>1.0</td>\n",
       "      <td>5.0</td>\n",
       "      <td>4.0</td>\n",
       "    </tr>\n",
       "    <tr>\n",
       "      <th>source=Bing, 2007-04</th>\n",
       "      <td>1.0</td>\n",
       "      <td>4.0</td>\n",
       "      <td>3.0</td>\n",
       "    </tr>\n",
       "    <tr>\n",
       "      <th>source=survey;Bing</th>\n",
       "      <td>2.0</td>\n",
       "      <td>4.0</td>\n",
       "      <td>2.0</td>\n",
       "    </tr>\n",
       "  </tbody>\n",
       "</table>\n",
       "</div>"
      ],
      "text/plain": [
       "timestamp                   2017-10-01 00:00:00  2019-10-01 00:00:00  \\\n",
       "tag                                                                    \n",
       "remainder                                 795.0               1968.0   \n",
       "source=GSImaps/ort                          1.0                 17.0   \n",
       "source=bing                                56.0                 64.0   \n",
       "source=survey                              15.0                 21.0   \n",
       "source=Bing,2017-11                         0.0                  5.0   \n",
       "source=Bing;survey                         11.0                 16.0   \n",
       "source=GSI/KIBAN 2500;NARO                  0.0                  4.0   \n",
       "source=local_knowledge                      1.0                  5.0   \n",
       "source=Bing, 2007-04                        1.0                  4.0   \n",
       "source=survey;Bing                          2.0                  4.0   \n",
       "\n",
       "timestamp                   difference  \n",
       "tag                                     \n",
       "remainder                       1173.0  \n",
       "source=GSImaps/ort                16.0  \n",
       "source=bing                        8.0  \n",
       "source=survey                      6.0  \n",
       "source=Bing,2017-11                5.0  \n",
       "source=Bing;survey                 5.0  \n",
       "source=GSI/KIBAN 2500;NARO         4.0  \n",
       "source=local_knowledge             4.0  \n",
       "source=Bing, 2007-04               3.0  \n",
       "source=survey;Bing                 2.0  "
      ]
     },
     "execution_count": 18,
     "metadata": {},
     "output_type": "execute_result"
    }
   ],
   "source": [
    "source_tags.iloc[:10]"
   ]
  },
  {
   "cell_type": "markdown",
   "metadata": {},
   "source": [
    "## 3. Park size and number of objects intersecting parks (Figure 1)"
   ]
  },
  {
   "cell_type": "markdown",
   "metadata": {},
   "source": [
    "Tokyo contains the largest number of small park features. A large fraction of parks within Tokyo and Osaka do not contain any objects in OSM."
   ]
  },
  {
   "cell_type": "code",
   "execution_count": 19,
   "metadata": {
    "code_folding": [],
    "scrolled": true
   },
   "outputs": [
    {
     "data": {
      "image/png": "[encoded data removed]",
      "text/plain": [
       "<Figure size 612x252 with 2 Axes>"
      ]
     },
     "metadata": {
      "needs_background": "light"
     },
     "output_type": "display_data"
    }
   ],
   "source": [
    "nbu.fig_1(all_features, city_labels, figures_dir=figures_dir)"
   ]
  },
  {
   "cell_type": "markdown",
   "metadata": {},
   "source": [
    "### Percentage of parks containing no features"
   ]
  },
  {
   "cell_type": "code",
   "execution_count": 20,
   "metadata": {},
   "outputs": [],
   "source": [
    "tokyo_features = all_features.loc[all_features[\"city\"] == \"tokyo\"]\n",
    "osaka_features = all_features.loc[all_features[\"city\"] == \"osaka\"]\n",
    "dresden_features = all_features.loc[all_features[\"city\"] == \"dresden\"]\n",
    "vancouver_features = all_features.loc[all_features[\"city\"] == \"vancouver\"]"
   ]
  },
  {
   "cell_type": "code",
   "execution_count": 21,
   "metadata": {},
   "outputs": [],
   "source": [
    "tokyo_new = tokyo_features[tokyo_features[\"age\"] <= 700].select_dtypes(np.number)\n",
    "tokyo_old = tokyo_features[tokyo_features[\"age\"] >= 700].select_dtypes(np.number)"
   ]
  },
  {
   "cell_type": "code",
   "execution_count": 22,
   "metadata": {},
   "outputs": [
    {
     "name": "stdout",
     "output_type": "stream",
     "text": [
      "Area of parks older than 2 years: 63.52\n",
      "Area of parks younger than 2 years: 41.11\n"
     ]
    }
   ],
   "source": [
    "print(\"Area of parks older than 2 years: {:.2f}\".format(percentileofscore(tokyo_new[\"area\"], 1000)))\n",
    "print(\"Area of parks younger than 2 years: {:.2f}\".format(percentileofscore(tokyo_old[\"area\"], 1000)))"
   ]
  },
  {
   "cell_type": "code",
   "execution_count": 23,
   "metadata": {},
   "outputs": [
    {
     "name": "stdout",
     "output_type": "stream",
     "text": [
      "Percentage of parks containing no objects:\n",
      "Tokyo: 20.73%\n",
      "Osaka: 22.26%\n",
      "Dresden: 2.03%\n",
      "Vancouver: 2.26%\n"
     ]
    }
   ],
   "source": [
    "print(\"Percentage of parks containing no objects:\")\n",
    "print(\"Tokyo: {:.2f}%\".format(percentileofscore(tokyo_features[\"feature_count\"], 0)))\n",
    "print(\"Osaka: {:.2f}%\".format(percentileofscore(osaka_features[\"feature_count\"], 0)))\n",
    "print(\"Dresden: {:.2f}%\".format(percentileofscore(dresden_features[\"feature_count\"], 0)))\n",
    "print(\"Vancouver: {:.2f}%\".format(percentileofscore(vancouver_features[\"feature_count\"], 0)))"
   ]
  },
  {
   "cell_type": "markdown",
   "metadata": {},
   "source": [
    "## 4. Correlation between context variables (Table 2)"
   ]
  },
  {
   "cell_type": "markdown",
   "metadata": {},
   "source": [
    "A correlation analysis between all context variables including parks from all cities was performed using the Spearman correlation coefficient, since most variables are not normally distributed."
   ]
  },
  {
   "cell_type": "code",
   "execution_count": 24,
   "metadata": {},
   "outputs": [
    {
     "data": {
      "text/html": [
       "<div>\n",
       "<style scoped>\n",
       "    .dataframe tbody tr th:only-of-type {\n",
       "        vertical-align: middle;\n",
       "    }\n",
       "\n",
       "    .dataframe tbody tr th {\n",
       "        vertical-align: top;\n",
       "    }\n",
       "\n",
       "    .dataframe thead th {\n",
       "        text-align: right;\n",
       "    }\n",
       "</style>\n",
       "<table border=\"1\" class=\"dataframe\">\n",
       "  <thead>\n",
       "    <tr style=\"text-align: right;\">\n",
       "      <th></th>\n",
       "      <th>Area</th>\n",
       "      <th>Building density</th>\n",
       "      <th>Days since creation</th>\n",
       "      <th>Number of tags</th>\n",
       "      <th>Number of changes</th>\n",
       "      <th>Version number</th>\n",
       "      <th>Inner user count</th>\n",
       "      <th>Inner user density</th>\n",
       "      <th>Outer user count</th>\n",
       "      <th>Outer user density</th>\n",
       "      <th>Feature count</th>\n",
       "    </tr>\n",
       "    <tr>\n",
       "      <th></th>\n",
       "      <th></th>\n",
       "      <th></th>\n",
       "      <th></th>\n",
       "      <th></th>\n",
       "      <th></th>\n",
       "      <th></th>\n",
       "      <th></th>\n",
       "      <th></th>\n",
       "      <th></th>\n",
       "      <th></th>\n",
       "      <th></th>\n",
       "    </tr>\n",
       "  </thead>\n",
       "  <tbody>\n",
       "    <tr>\n",
       "      <th>Area</th>\n",
       "      <td>\\textbf{1.0}</td>\n",
       "      <td>-0.1</td>\n",
       "      <td>0.34</td>\n",
       "      <td>0.25</td>\n",
       "      <td>0.5</td>\n",
       "      <td>0.5</td>\n",
       "      <td>\\textbf{0.53}</td>\n",
       "      <td>0.12</td>\n",
       "      <td>0.19</td>\n",
       "      <td>-0.12</td>\n",
       "      <td>\\textbf{0.67}</td>\n",
       "    </tr>\n",
       "    <tr>\n",
       "      <th>Building density</th>\n",
       "      <td>-0.1</td>\n",
       "      <td>\\textbf{1.0}</td>\n",
       "      <td>0.13</td>\n",
       "      <td>0.15</td>\n",
       "      <td>0.12</td>\n",
       "      <td>0.11</td>\n",
       "      <td>0.12</td>\n",
       "      <td>0.21</td>\n",
       "      <td>0.34</td>\n",
       "      <td>0.39</td>\n",
       "      <td>0.09</td>\n",
       "    </tr>\n",
       "    <tr>\n",
       "      <th>Days since creation</th>\n",
       "      <td>0.34</td>\n",
       "      <td>0.13</td>\n",
       "      <td>\\textbf{1.0}</td>\n",
       "      <td>0.16</td>\n",
       "      <td>\\textbf{0.6}</td>\n",
       "      <td>0.49</td>\n",
       "      <td>0.28</td>\n",
       "      <td>0.16</td>\n",
       "      <td>0.19</td>\n",
       "      <td>0.11</td>\n",
       "      <td>0.31</td>\n",
       "    </tr>\n",
       "    <tr>\n",
       "      <th>Number of tags</th>\n",
       "      <td>0.25</td>\n",
       "      <td>0.15</td>\n",
       "      <td>0.16</td>\n",
       "      <td>\\textbf{1.0}</td>\n",
       "      <td>0.36</td>\n",
       "      <td>0.4</td>\n",
       "      <td>0.27</td>\n",
       "      <td>0.16</td>\n",
       "      <td>0.12</td>\n",
       "      <td>0.01</td>\n",
       "      <td>0.24</td>\n",
       "    </tr>\n",
       "    <tr>\n",
       "      <th>Number of changes</th>\n",
       "      <td>0.5</td>\n",
       "      <td>0.12</td>\n",
       "      <td>\\textbf{0.6}</td>\n",
       "      <td>0.36</td>\n",
       "      <td>\\textbf{1.0}</td>\n",
       "      <td>\\textbf{0.84}</td>\n",
       "      <td>\\textbf{0.51}</td>\n",
       "      <td>0.29</td>\n",
       "      <td>0.37</td>\n",
       "      <td>0.19</td>\n",
       "      <td>\\textbf{0.56}</td>\n",
       "    </tr>\n",
       "    <tr>\n",
       "      <th>Version number</th>\n",
       "      <td>0.5</td>\n",
       "      <td>0.11</td>\n",
       "      <td>0.49</td>\n",
       "      <td>0.4</td>\n",
       "      <td>\\textbf{0.84}</td>\n",
       "      <td>\\textbf{1.0}</td>\n",
       "      <td>\\textbf{0.51}</td>\n",
       "      <td>0.29</td>\n",
       "      <td>0.38</td>\n",
       "      <td>0.21</td>\n",
       "      <td>\\textbf{0.57}</td>\n",
       "    </tr>\n",
       "    <tr>\n",
       "      <th>Inner user count</th>\n",
       "      <td>\\textbf{0.53}</td>\n",
       "      <td>0.12</td>\n",
       "      <td>0.28</td>\n",
       "      <td>0.27</td>\n",
       "      <td>\\textbf{0.51}</td>\n",
       "      <td>\\textbf{0.51}</td>\n",
       "      <td>\\textbf{1.0}</td>\n",
       "      <td>\\textbf{0.82}</td>\n",
       "      <td>0.5</td>\n",
       "      <td>0.31</td>\n",
       "      <td>\\textbf{0.75}</td>\n",
       "    </tr>\n",
       "    <tr>\n",
       "      <th>Inner user density</th>\n",
       "      <td>0.12</td>\n",
       "      <td>0.21</td>\n",
       "      <td>0.16</td>\n",
       "      <td>0.16</td>\n",
       "      <td>0.29</td>\n",
       "      <td>0.29</td>\n",
       "      <td>\\textbf{0.82}</td>\n",
       "      <td>\\textbf{1.0}</td>\n",
       "      <td>0.42</td>\n",
       "      <td>0.39</td>\n",
       "      <td>0.5</td>\n",
       "    </tr>\n",
       "    <tr>\n",
       "      <th>Outer user count</th>\n",
       "      <td>0.19</td>\n",
       "      <td>0.34</td>\n",
       "      <td>0.19</td>\n",
       "      <td>0.12</td>\n",
       "      <td>0.37</td>\n",
       "      <td>0.38</td>\n",
       "      <td>0.5</td>\n",
       "      <td>0.42</td>\n",
       "      <td>\\textbf{1.0}</td>\n",
       "      <td>\\textbf{0.91}</td>\n",
       "      <td>0.49</td>\n",
       "    </tr>\n",
       "    <tr>\n",
       "      <th>Outer user density</th>\n",
       "      <td>-0.12</td>\n",
       "      <td>0.39</td>\n",
       "      <td>0.11</td>\n",
       "      <td>0.01</td>\n",
       "      <td>0.19</td>\n",
       "      <td>0.21</td>\n",
       "      <td>0.31</td>\n",
       "      <td>0.39</td>\n",
       "      <td>\\textbf{0.91}</td>\n",
       "      <td>\\textbf{1.0}</td>\n",
       "      <td>0.26</td>\n",
       "    </tr>\n",
       "    <tr>\n",
       "      <th>Feature count</th>\n",
       "      <td>\\textbf{0.67}</td>\n",
       "      <td>0.09</td>\n",
       "      <td>0.31</td>\n",
       "      <td>0.24</td>\n",
       "      <td>\\textbf{0.56}</td>\n",
       "      <td>\\textbf{0.57}</td>\n",
       "      <td>\\textbf{0.75}</td>\n",
       "      <td>0.5</td>\n",
       "      <td>0.49</td>\n",
       "      <td>0.26</td>\n",
       "      <td>\\textbf{1.0}</td>\n",
       "    </tr>\n",
       "  </tbody>\n",
       "</table>\n",
       "</div>"
      ],
      "text/plain": [
       "                              Area Building density Days since creation  \\\n",
       "                                                                          \n",
       "Area                  \\textbf{1.0}             -0.1                0.34   \n",
       "Building density              -0.1     \\textbf{1.0}                0.13   \n",
       "Days since creation           0.34             0.13        \\textbf{1.0}   \n",
       "Number of tags                0.25             0.15                0.16   \n",
       "Number of changes              0.5             0.12        \\textbf{0.6}   \n",
       "Version number                 0.5             0.11                0.49   \n",
       "Inner user count     \\textbf{0.53}             0.12                0.28   \n",
       "Inner user density            0.12             0.21                0.16   \n",
       "Outer user count              0.19             0.34                0.19   \n",
       "Outer user density           -0.12             0.39                0.11   \n",
       "Feature count        \\textbf{0.67}             0.09                0.31   \n",
       "\n",
       "                    Number of tags Number of changes Version number  \\\n",
       "                                                                      \n",
       "Area                          0.25               0.5            0.5   \n",
       "Building density              0.15              0.12           0.11   \n",
       "Days since creation           0.16      \\textbf{0.6}           0.49   \n",
       "Number of tags        \\textbf{1.0}              0.36            0.4   \n",
       "Number of changes             0.36      \\textbf{1.0}  \\textbf{0.84}   \n",
       "Version number                 0.4     \\textbf{0.84}   \\textbf{1.0}   \n",
       "Inner user count              0.27     \\textbf{0.51}  \\textbf{0.51}   \n",
       "Inner user density            0.16              0.29           0.29   \n",
       "Outer user count              0.12              0.37           0.38   \n",
       "Outer user density            0.01              0.19           0.21   \n",
       "Feature count                 0.24     \\textbf{0.56}  \\textbf{0.57}   \n",
       "\n",
       "                    Inner user count Inner user density Outer user count  \\\n",
       "                                                                           \n",
       "Area                   \\textbf{0.53}               0.12             0.19   \n",
       "Building density                0.12               0.21             0.34   \n",
       "Days since creation             0.28               0.16             0.19   \n",
       "Number of tags                  0.27               0.16             0.12   \n",
       "Number of changes      \\textbf{0.51}               0.29             0.37   \n",
       "Version number         \\textbf{0.51}               0.29             0.38   \n",
       "Inner user count        \\textbf{1.0}      \\textbf{0.82}              0.5   \n",
       "Inner user density     \\textbf{0.82}       \\textbf{1.0}             0.42   \n",
       "Outer user count                 0.5               0.42     \\textbf{1.0}   \n",
       "Outer user density              0.31               0.39    \\textbf{0.91}   \n",
       "Feature count          \\textbf{0.75}                0.5             0.49   \n",
       "\n",
       "                    Outer user density  Feature count  \n",
       "                                                       \n",
       "Area                             -0.12  \\textbf{0.67}  \n",
       "Building density                  0.39           0.09  \n",
       "Days since creation               0.11           0.31  \n",
       "Number of tags                    0.01           0.24  \n",
       "Number of changes                 0.19  \\textbf{0.56}  \n",
       "Version number                    0.21  \\textbf{0.57}  \n",
       "Inner user count                  0.31  \\textbf{0.75}  \n",
       "Inner user density                0.39            0.5  \n",
       "Outer user count         \\textbf{0.91}           0.49  \n",
       "Outer user density        \\textbf{1.0}           0.26  \n",
       "Feature count                     0.26   \\textbf{1.0}  "
      ]
     },
     "execution_count": 24,
     "metadata": {},
     "output_type": "execute_result"
    }
   ],
   "source": [
    "nbu.tab_2(all_features, tables_dir)"
   ]
  },
  {
   "cell_type": "markdown",
   "metadata": {},
   "source": [
    "Most correlation coefficients show slightly positive relationships. Especially, the variables which are indicators for user activity (e.g. number of changes, version number, inner user count, feature count) show rather strong positive relationships between each other. They also correlate positively with the age of the park feature (days since creation) suggesting that the longer a park has been existing in OSM, the more complete it is in OSM. The size of the park is also slightly positively correlated with the number of days since creation suggesting that larger parks tend to be mapped earlier than smaller ones. Large parks also show more unique active users and higher numbers of features mapped inside of them, which is probably both due to their physical structure (e.g., large parks generally provide more amenities than small ones) and the level of completeness which is probably higher since more users are active inside of them. "
   ]
  },
  {
   "cell_type": "markdown",
   "metadata": {},
   "source": [
    "## 5. Frequency of tags within parks (Table 3)"
   ]
  },
  {
   "cell_type": "markdown",
   "metadata": {},
   "source": [
    "The tag _highway=footway_ is among the five most frequent tags within every city. Buildings and playgrounds are mapped quite frequently within parks in most cites, while benches appear especially often in German parks (Dresden and Berlin) and toilets are among the most frequently mapped objects within Japanese parks (Osaka and Tokyo). "
   ]
  },
  {
   "cell_type": "code",
   "execution_count": 25,
   "metadata": {
    "code_folding": []
   },
   "outputs": [
    {
     "data": {
      "text/html": [
       "<div>\n",
       "<style scoped>\n",
       "    .dataframe tbody tr th:only-of-type {\n",
       "        vertical-align: middle;\n",
       "    }\n",
       "\n",
       "    .dataframe tbody tr th {\n",
       "        vertical-align: top;\n",
       "    }\n",
       "\n",
       "    .dataframe thead th {\n",
       "        text-align: right;\n",
       "    }\n",
       "</style>\n",
       "<table border=\"1\" class=\"dataframe\">\n",
       "  <thead>\n",
       "    <tr style=\"text-align: right;\">\n",
       "      <th></th>\n",
       "      <th>dresden</th>\n",
       "      <th>berlin</th>\n",
       "      <th>london</th>\n",
       "      <th>telaviv</th>\n",
       "      <th>tokyo</th>\n",
       "      <th>osaka</th>\n",
       "      <th>newyork</th>\n",
       "      <th>vancouver</th>\n",
       "    </tr>\n",
       "  </thead>\n",
       "  <tbody>\n",
       "    <tr>\n",
       "      <th>highway=footway</th>\n",
       "      <td>\\textbf{0.63}</td>\n",
       "      <td>\\textbf{0.78}</td>\n",
       "      <td>\\textbf{0.57}</td>\n",
       "      <td>\\textbf{0.42}</td>\n",
       "      <td>\\textbf{0.22}</td>\n",
       "      <td>\\textbf{0.14}</td>\n",
       "      <td>\\textbf{0.41}</td>\n",
       "      <td>\\textbf{0.63}</td>\n",
       "    </tr>\n",
       "    <tr>\n",
       "      <th>landuse=residential</th>\n",
       "      <td>\\textbf{0.6}</td>\n",
       "      <td>\\textbf{0.58}</td>\n",
       "      <td>\\textbf{0.52}</td>\n",
       "      <td>\\textbf{0.31}</td>\n",
       "      <td>0.03</td>\n",
       "      <td>0.01</td>\n",
       "      <td>0.07</td>\n",
       "      <td>\\textbf{0.28}</td>\n",
       "    </tr>\n",
       "    <tr>\n",
       "      <th>building=yes</th>\n",
       "      <td>0.19</td>\n",
       "      <td>0.26</td>\n",
       "      <td>\\textbf{0.22}</td>\n",
       "      <td>\\textbf{0.13}</td>\n",
       "      <td>\\textbf{0.18}</td>\n",
       "      <td>\\textbf{0.19}</td>\n",
       "      <td>\\textbf{0.36}</td>\n",
       "      <td>\\textbf{0.29}</td>\n",
       "    </tr>\n",
       "    <tr>\n",
       "      <th>leisure=playground</th>\n",
       "      <td>\\textbf{0.23}</td>\n",
       "      <td>\\textbf{0.34}</td>\n",
       "      <td>\\textbf{0.26}</td>\n",
       "      <td>\\textbf{0.15}</td>\n",
       "      <td>0.05</td>\n",
       "      <td>0.04</td>\n",
       "      <td>\\textbf{0.21}</td>\n",
       "      <td>\\textbf{0.36}</td>\n",
       "    </tr>\n",
       "    <tr>\n",
       "      <th>amenity=bench</th>\n",
       "      <td>\\textbf{0.46}</td>\n",
       "      <td>\\textbf{0.34}</td>\n",
       "      <td>0.18</td>\n",
       "      <td>0.01</td>\n",
       "      <td>0.06</td>\n",
       "      <td>0.04</td>\n",
       "      <td>0.08</td>\n",
       "      <td>0.17</td>\n",
       "    </tr>\n",
       "    <tr>\n",
       "      <th>leisure=pitch</th>\n",
       "      <td>0.08</td>\n",
       "      <td>0.21</td>\n",
       "      <td>0.19</td>\n",
       "      <td>0.04</td>\n",
       "      <td>0.05</td>\n",
       "      <td>\\textbf{0.08}</td>\n",
       "      <td>\\textbf{0.26}</td>\n",
       "      <td>\\textbf{0.3}</td>\n",
       "    </tr>\n",
       "    <tr>\n",
       "      <th>highway=path</th>\n",
       "      <td>\\textbf{0.24}</td>\n",
       "      <td>0.24</td>\n",
       "      <td>0.14</td>\n",
       "      <td>0.1</td>\n",
       "      <td>0.05</td>\n",
       "      <td>0.05</td>\n",
       "      <td>0.04</td>\n",
       "      <td>0.26</td>\n",
       "    </tr>\n",
       "    <tr>\n",
       "      <th>highway=steps</th>\n",
       "      <td>0.22</td>\n",
       "      <td>0.23</td>\n",
       "      <td>0.1</td>\n",
       "      <td>0.08</td>\n",
       "      <td>\\textbf{0.09}</td>\n",
       "      <td>0.05</td>\n",
       "      <td>0.1</td>\n",
       "      <td>0.16</td>\n",
       "    </tr>\n",
       "    <tr>\n",
       "      <th>natural=tree</th>\n",
       "      <td>0.18</td>\n",
       "      <td>\\textbf{0.27}</td>\n",
       "      <td>\\textbf{0.27}</td>\n",
       "      <td>0.01</td>\n",
       "      <td>0.05</td>\n",
       "      <td>0.04</td>\n",
       "      <td>0.06</td>\n",
       "      <td>0.1</td>\n",
       "    </tr>\n",
       "    <tr>\n",
       "      <th>amenity=toilets</th>\n",
       "      <td>0.01</td>\n",
       "      <td>0.05</td>\n",
       "      <td>0.06</td>\n",
       "      <td>0.02</td>\n",
       "      <td>\\textbf{0.21}</td>\n",
       "      <td>\\textbf{0.08}</td>\n",
       "      <td>0.12</td>\n",
       "      <td>0.16</td>\n",
       "    </tr>\n",
       "    <tr>\n",
       "      <th>amenity=drinking\\_water</th>\n",
       "      <td>0</td>\n",
       "      <td>0.01</td>\n",
       "      <td>0.04</td>\n",
       "      <td>0.08</td>\n",
       "      <td>\\textbf{0.12}</td>\n",
       "      <td>0.01</td>\n",
       "      <td>\\textbf{0.21}</td>\n",
       "      <td>0.14</td>\n",
       "    </tr>\n",
       "    <tr>\n",
       "      <th>highway=residential</th>\n",
       "      <td>0.03</td>\n",
       "      <td>0.07</td>\n",
       "      <td>0.07</td>\n",
       "      <td>\\textbf{0.11}</td>\n",
       "      <td>0.05</td>\n",
       "      <td>0.04</td>\n",
       "      <td>0.06</td>\n",
       "      <td>0.09</td>\n",
       "    </tr>\n",
       "    <tr>\n",
       "      <th>highway=unclassified</th>\n",
       "      <td>0</td>\n",
       "      <td>0.01</td>\n",
       "      <td>0.03</td>\n",
       "      <td>0</td>\n",
       "      <td>0.04</td>\n",
       "      <td>\\textbf{0.07}</td>\n",
       "      <td>0.01</td>\n",
       "      <td>0.01</td>\n",
       "    </tr>\n",
       "  </tbody>\n",
       "</table>\n",
       "</div>"
      ],
      "text/plain": [
       "                               dresden         berlin         london  \\\n",
       "highway=footway          \\textbf{0.63}  \\textbf{0.78}  \\textbf{0.57}   \n",
       "landuse=residential       \\textbf{0.6}  \\textbf{0.58}  \\textbf{0.52}   \n",
       "building=yes                      0.19           0.26  \\textbf{0.22}   \n",
       "leisure=playground       \\textbf{0.23}  \\textbf{0.34}  \\textbf{0.26}   \n",
       "amenity=bench            \\textbf{0.46}  \\textbf{0.34}           0.18   \n",
       "leisure=pitch                     0.08           0.21           0.19   \n",
       "highway=path             \\textbf{0.24}           0.24           0.14   \n",
       "highway=steps                     0.22           0.23            0.1   \n",
       "natural=tree                      0.18  \\textbf{0.27}  \\textbf{0.27}   \n",
       "amenity=toilets                   0.01           0.05           0.06   \n",
       "amenity=drinking\\_water              0           0.01           0.04   \n",
       "highway=residential               0.03           0.07           0.07   \n",
       "highway=unclassified                 0           0.01           0.03   \n",
       "\n",
       "                               telaviv          tokyo          osaka  \\\n",
       "highway=footway          \\textbf{0.42}  \\textbf{0.22}  \\textbf{0.14}   \n",
       "landuse=residential      \\textbf{0.31}           0.03           0.01   \n",
       "building=yes             \\textbf{0.13}  \\textbf{0.18}  \\textbf{0.19}   \n",
       "leisure=playground       \\textbf{0.15}           0.05           0.04   \n",
       "amenity=bench                     0.01           0.06           0.04   \n",
       "leisure=pitch                     0.04           0.05  \\textbf{0.08}   \n",
       "highway=path                       0.1           0.05           0.05   \n",
       "highway=steps                     0.08  \\textbf{0.09}           0.05   \n",
       "natural=tree                      0.01           0.05           0.04   \n",
       "amenity=toilets                   0.02  \\textbf{0.21}  \\textbf{0.08}   \n",
       "amenity=drinking\\_water           0.08  \\textbf{0.12}           0.01   \n",
       "highway=residential      \\textbf{0.11}           0.05           0.04   \n",
       "highway=unclassified                 0           0.04  \\textbf{0.07}   \n",
       "\n",
       "                               newyork      vancouver  \n",
       "highway=footway          \\textbf{0.41}  \\textbf{0.63}  \n",
       "landuse=residential               0.07  \\textbf{0.28}  \n",
       "building=yes             \\textbf{0.36}  \\textbf{0.29}  \n",
       "leisure=playground       \\textbf{0.21}  \\textbf{0.36}  \n",
       "amenity=bench                     0.08           0.17  \n",
       "leisure=pitch            \\textbf{0.26}   \\textbf{0.3}  \n",
       "highway=path                      0.04           0.26  \n",
       "highway=steps                      0.1           0.16  \n",
       "natural=tree                      0.06            0.1  \n",
       "amenity=toilets                   0.12           0.16  \n",
       "amenity=drinking\\_water  \\textbf{0.21}           0.14  \n",
       "highway=residential               0.06           0.09  \n",
       "highway=unclassified              0.01           0.01  "
      ]
     },
     "execution_count": 25,
     "metadata": {},
     "output_type": "execute_result"
    }
   ],
   "source": [
    "nbu.tab_3(cities, all_features, city_labels, tables_dir)"
   ]
  },
  {
   "cell_type": "code",
   "execution_count": null,
   "metadata": {},
   "outputs": [],
   "source": []
  }
 ],
 "metadata": {
  "kernelspec": {
   "display_name": "Python 3",
   "language": "python",
   "name": "python3"
  },
  "language_info": {
   "codemirror_mode": {
    "name": "ipython",
    "version": 3
   },
   "file_extension": ".py",
   "mimetype": "text/x-python",
   "name": "python",
   "nbconvert_exporter": "python",
   "pygments_lexer": "ipython3",
   "version": "3.7.6"
  },
  "pycharm": {
   "stem_cell": {
    "cell_type": "raw",
    "metadata": {
     "collapsed": false
    },
    "source": []
   }
  }
 },
 "nbformat": 4,
 "nbformat_minor": 4
}
